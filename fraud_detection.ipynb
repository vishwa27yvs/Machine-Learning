{
 "cells": [
  {
   "cell_type": "code",
   "execution_count": 1,
   "metadata": {},
   "outputs": [
    {
     "ename": "ModuleNotFoundError",
     "evalue": "No module named 'plot_confusion_matrix'",
     "output_type": "error",
     "traceback": [
      "\u001b[0;31m---------------------------------------------------------------------------\u001b[0m",
      "\u001b[0;31mModuleNotFoundError\u001b[0m                       Traceback (most recent call last)",
      "\u001b[0;32m<ipython-input-1-26c12ef6f333>\u001b[0m in \u001b[0;36m<module>\u001b[0;34m\u001b[0m\n\u001b[1;32m      9\u001b[0m \u001b[0;32mfrom\u001b[0m \u001b[0msklearn\u001b[0m\u001b[0;34m.\u001b[0m\u001b[0mfeature_selection\u001b[0m \u001b[0;32mimport\u001b[0m \u001b[0mSelectKBest\u001b[0m\u001b[0;34m,\u001b[0m \u001b[0mf_classif\u001b[0m\u001b[0;34m,\u001b[0m \u001b[0mmutual_info_classif\u001b[0m\u001b[0;34m\u001b[0m\u001b[0;34m\u001b[0m\u001b[0m\n\u001b[1;32m     10\u001b[0m \u001b[0;34m\u001b[0m\u001b[0m\n\u001b[0;32m---> 11\u001b[0;31m \u001b[0;32mfrom\u001b[0m \u001b[0mplot_confusion_matrix\u001b[0m \u001b[0;32mimport\u001b[0m \u001b[0mplot_confusion_matrix\u001b[0m\u001b[0;34m\u001b[0m\u001b[0;34m\u001b[0m\u001b[0m\n\u001b[0m",
      "\u001b[0;31mModuleNotFoundError\u001b[0m: No module named 'plot_confusion_matrix'"
     ]
    }
   ],
   "source": [
    "import numpy as np\n",
    "import pandas as pd\n",
    "import matplotlib.pyplot as plt\n",
    "import seaborn as sns\n",
    "\n",
    "from sklearn.model_selection import train_test_split, cross_validate\n",
    "from sklearn.naive_bayes import GaussianNB\n",
    "from sklearn.metrics import confusion_matrix,classification_report\n",
    "from sklearn.feature_selection import SelectKBest, f_classif, mutual_info_classif\n",
    "\n",
    "from plot_confusion_matrix import plot_confusion_matrix\n"
   ]
  },
  {
   "cell_type": "code",
   "execution_count": null,
   "metadata": {},
   "outputs": [],
   "source": [
    "data = pd.read_csv('data.csv')"
   ]
  },
  {
   "cell_type": "code",
   "execution_count": null,
   "metadata": {},
   "outputs": [],
   "source": [
    "data.head()"
   ]
  },
  {
   "cell_type": "code",
   "execution_count": null,
   "metadata": {},
   "outputs": [],
   "source": [
    "  data.describe().round(decimals=2)"
   ]
  },
  {
   "cell_type": "code",
   "execution_count": null,
   "metadata": {},
   "outputs": [],
   "source": [
    "print('Columns :',list(data))\n",
    "print('Number of columns : ',len(list(data)))\n"
   ]
  },
  {
   "cell_type": "code",
   "execution_count": null,
   "metadata": {},
   "outputs": [],
   "source": [
    "n_genuine = data[data['Class']==0]\n",
    "n_fraud = data[data['Class']==1]\n",
    "# Now we can plot this as a pi-chart\n",
    "print('Number of Genuine Transactions :',len(n_genuine))\n",
    "print('Number of Fraud Transactions:',len(n_fraud))\n",
    "# this function always takes input as boolean operator # selects the indices of that column\n",
    "plt.pie([len(n_genuine),len(n_fraud)],labels=['Genuine','Fraud'],radius =1)\n",
    "plt.show"
   ]
  },
  {
   "cell_type": "code",
   "execution_count": null,
   "metadata": {},
   "outputs": [],
   "source": [
    "# the data is highly imbalanced\n"
   ]
  },
  {
   "cell_type": "code",
   "execution_count": null,
   "metadata": {},
   "outputs": [],
   "source": [
    "X , y = data.iloc[:,:-1], data.iloc[:,-1]\n",
    "X.head()\n"
   ]
  },
  {
   "cell_type": "code",
   "execution_count": null,
   "metadata": {},
   "outputs": [],
   "source": [
    "# 10 best features\n",
    "k = 10\n",
    "\n",
    "k_best = SelectKBest(f_classif, k=k)\n",
    "k_best.fit(X,y)\n",
    "# fclassif is the particular method creates a new class\n",
    "# this function will totally depend on your problem\n",
    "# we use the score function for this \n",
    "# here we have used the f_classif function"
   ]
  },
  {
   "cell_type": "code",
   "execution_count": null,
   "metadata": {},
   "outputs": [],
   "source": [
    "mask = k_best.get_support()\n",
    "not_mask = np.logical_not(mask)\n",
    "# mask and not_mask stores the different indices of the array\n",
    "all_features = np.array(list(X))\n",
    "# this consists of the list of the features(only names) and has\n",
    "# been converted to an array\n",
    "# this function below loads elements with those particular indices\n",
    "best_features = all_features[mask]\n",
    "bad_features = all_features[not_mask]\n",
    "\n",
    "print('Best Features :',best_features)\n",
    "print('Bad Features :',bad_features)"
   ]
  },
  {
   "cell_type": "code",
   "execution_count": null,
   "metadata": {},
   "outputs": [],
   "source": [
    "# we now using the drop function to drop all the bad features\n",
    "# we use the drop function from the pandas library also because X\n",
    "# is a dataframe\n",
    "# axis = 1 we will drop the columns\n",
    "X = X.drop(bad_features, axis=1)\n",
    "X.head()"
   ]
  },
  {
   "cell_type": "code",
   "execution_count": null,
   "metadata": {},
   "outputs": [],
   "source": [
    "# distplot or distribution plot seaborn provides high level distribution plots\n",
    "# parameters features dta\n",
    "def plot_fraud_genuine(features, data):\n",
    "    plt_index = 0\n",
    "    plt.figure(figsize=(10,10))\n",
    "    plt.subplots_adjust(top=0.99, bottom=0.01, hspace=1.5, wspace=0.4)\n",
    "    for feature in features :\n",
    "        plt_index+=1\n",
    "        feature_data = pd.concat([data[feature],data['Class']],axis=1)\n",
    "        fraud = feature_data[data['Class']==1]\n",
    "        genuine = feature_data[data['Class']==0]\n",
    "        if len(genuine > 10000):\n",
    "            genuine = genuine[::100]\n",
    "        plt.subplot(5,5,plt_index)\n",
    "        sns.distplot(fraud[feature])\n",
    "        sns.distplot(genuine[feature])\n",
    "        plt.title(feature)\n",
    "        "
   ]
  },
  {
   "cell_type": "code",
   "execution_count": null,
   "metadata": {},
   "outputs": [],
   "source": [
    "plot_fraud_genuine(best_features,data)"
   ]
  },
  {
   "cell_type": "code",
   "execution_count": null,
   "metadata": {},
   "outputs": [],
   "source": [
    "x_train,x_test,y_train,y_test = train_test_split(X,y,test_size=0.2)\n",
    "# sampling 20 percent of data as testing data set\n",
    "\n"
   ]
  },
  {
   "cell_type": "code",
   "execution_count": null,
   "metadata": {},
   "outputs": [],
   "source": [
    "nb = GaussianNB()\n",
    "cv_results = cross_validate(nb,x_train,y_train,cv=10,scoring='recall',\n",
    "                           return_train_score = True,return_estimator = True)\n",
    "print(cv_results)"
   ]
  },
  {
   "cell_type": "code",
   "execution_count": null,
   "metadata": {},
   "outputs": [],
   "source": [
    "print('Training scores from each fold:',cv_results['train_score'])\n",
    "max_score_index = np.argmax(cv_results['train_score'])\n",
    "print(max_score_index)\n",
    "best_estimator = cv_results['estimator'][max_score_index]"
   ]
  },
  {
   "cell_type": "code",
   "execution_count": null,
   "metadata": {},
   "outputs": [],
   "source": [
    "def display_results(estimator, x, y):\n",
    "    predicted = estimator.predict(x)\n",
    "    cm = confusion_matrix(y,predicted)\n",
    "    report = classification_report(y,predicted)\n",
    "    print(report)\n",
    "    plot_confusion_matrix(cm,classes=['Genuine','Fraud'],title='Fraud Detection')"
   ]
  },
  {
   "cell_type": "code",
   "execution_count": null,
   "metadata": {},
   "outputs": [],
   "source": [
    "display_results(best_estimator,x_test,y_test)\n",
    "# look at how we enter the x test and the y test variable "
   ]
  },
  {
   "cell_type": "code",
   "execution_count": null,
   "metadata": {},
   "outputs": [],
   "source": [
    "display_results(best_estimator, x_train , y_train)\n",
    "# only if we want to check how accurate is it on the training dataset"
   ]
  },
  {
   "cell_type": "code",
   "execution_count": null,
   "metadata": {},
   "outputs": [],
   "source": []
  }
 ],
 "metadata": {
  "kernelspec": {
   "display_name": "Python 3",
   "language": "python",
   "name": "python3"
  },
  "language_info": {
   "codemirror_mode": {
    "name": "ipython",
    "version": 3
   },
   "file_extension": ".py",
   "mimetype": "text/x-python",
   "name": "python",
   "nbconvert_exporter": "python",
   "pygments_lexer": "ipython3",
   "version": "3.7.3"
  }
 },
 "nbformat": 4,
 "nbformat_minor": 2
}
